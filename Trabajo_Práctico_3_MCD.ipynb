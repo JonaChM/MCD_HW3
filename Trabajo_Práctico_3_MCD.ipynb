{
 "cells": [
  {
   "cell_type": "markdown",
   "metadata": {
    "id": "GItxU96mTk16"
   },
   "source": [
    "# Matemática para Ciencia de los Datos\n",
    "# Trabajo Práctico 3\n",
    "\n",
    "Profesor: Juan Luis Crespo Mariño (basado en trabajo previo de Luis Alexánder Calvo Valverde)\n",
    "\n",
    "Instituto Tecnológico de Costa Rica,\n",
    "\n",
    "Programa Ciencia de Datos\n",
    "\n",
    "---\n",
    "\n",
    "Fecha de entrega:  5 de Noviembre de 2024, a más tardar a las 6:00 pm.\n",
    "\n",
    "Medio de entrega: Por medio del TEC-Digital.\n",
    "\n",
    "Entregables: Un archivo jupyter ( .IPYNB ).\n",
    "\n",
    "Estudiante(s):\n",
    "1. Jonathan Chavarria\n",
    "1. Felipe Quesada\n"
   ]
  },
  {
   "cell_type": "markdown",
   "metadata": {
    "id": "jdtaAwa8XzNA"
   },
   "source": [
    "---\n",
    "\n",
    "**Pregunta 1**\n",
    "\n",
    "\n",
    "\n",
    "Se puede demostrar que para los vectores generadores de un subespacio $E=\\textrm{espacioGenerado}\\left\\{ \\vec{v}_{1},\\vec{v}_{2},\\ldots,\\vec{v}_{m}\\right\\}$ , con $V=\\left[\\vec{v}_{1},\\vec{v}_{2},\\ldots,\\vec{v}_{m}\\right]$,con $\\vec{v}_{m}\\in\\mathbb{R}^{n}$ si son ortonormales, la ecuación de la proyección de un vector $\\vec{u}\\in\\mathbb{R}^{n}$ originalmente dada por:\n",
    "\n",
    "$$\\textrm{proy}\\left(\\vec{u};V\\right)=\\textrm{argmin}_{\\vec{v}\\in E}\\left\\Vert \\vec{v}-\\vec{u}\\right\\Vert _{2}=V\\,\\left(V^{T}V\\right)^{-1}V^{T}\\vec{u}$$\n",
    "\n",
    "se puede reescribir como:\n",
    "\n",
    "$$\\textrm{proy}\\left(\\vec{u};V\\right)=\\textrm{argmin}_{\\vec{v}\\in E}\\left\\Vert \\vec{v}-\\vec{u}\\right\\Vert _{2}=V\\,V^{T}\\vec{u}$$\n",
    "\n",
    "con $V\\in\\mathbb{R}^{n\\times m}$.\n",
    "\n",
    "\n",
    "\n",
    "\n",
    "\n",
    "\n",
    "\n"
   ]
  },
  {
   "cell_type": "markdown",
   "metadata": {
    "id": "cIWGj3EzyNEx"
   },
   "source": [
    "**1.1 (25 puntos)**\n",
    "\n",
    "Utilizando numpy, proponga una matriz ortonormal de dimensiones 3x3, para ello utilice una fuente como \"Proceso de ortonormalización de  Gram - Schmidt\" (https://blog.nekomath.com/algebra-lineal-i-proceso-de-gram-schmidt/) para producir una matriz ortonormal a partir de una matriz que no es ni ortonormal ni ortogonal.\n",
    "\n",
    "Finalmente muestre en numpy que su matriz resultante es ortonormal ($V$).\n",
    "\n"
   ]
  },
  {
   "cell_type": "code",
   "execution_count": null,
   "metadata": {
    "id": "If-CbnjCyNEx"
   },
   "outputs": [
    {
     "name": "stdout",
     "output_type": "stream",
     "text": [
      "[[ 0.95289051  0.30331447  0.        ]\n",
      " [-0.28295939  0.88894316  0.36015836]\n",
      " [ 0.10924124 -0.34319149  0.93289118]]\n",
      "[[1.00000000e+00 1.63539616e-17 4.18635526e-17]\n",
      " [1.63539616e-17 1.00000000e+00 5.73334419e-17]\n",
      " [4.18635526e-17 5.73334419e-17 1.00000000e+00]]\n"
     ]
    }
   ],
   "source": [
    "import numpy as np \n",
    "\n",
    "\n",
    "#Define a GramSchmidt for a 3 vector in the R 3 \n",
    "def GramSchmidt3x3 ( v1 , v2 , v3):\n",
    "\n",
    "    e1 = v1 / np.linalg.norm(v1)\n",
    "\n",
    "    z2 = v2 - np.dot(e1 , v2)*e1\n",
    "    e2 = z2 / np.linalg.norm(z2)\n",
    "\n",
    "    z3 = v3 - np.dot(v3 , e1)*e1 - np.dot(v3 , e2)*e2\n",
    "    e3 = z3/np.linalg.norm(z3)\n",
    "   \n",
    "    A = np.vstack([e1, e2 , e3])\n",
    "\n",
    "    return A\n",
    "\n",
    "#Test set\n",
    "v1 = [np.pi , 1 , 0]\n",
    "v2 = [0 , np.e , 1]\n",
    "v3 = [1 , 0 , ((1 + np.sqrt(5))/2)]\n",
    "\n",
    "V = GramSchmidt3x3(v1 , v2 , v3 )\n",
    "print (V)\n",
    "\n",
    "#Check if it is orthonormal: QTQ = I\n",
    "print( np.matmul(np.transpose(V) , V ))\n"
   ]
  },
  {
   "cell_type": "markdown",
   "metadata": {
    "id": "MKIrCHhGyNEy"
   },
   "source": [
    "**1.2 (15 puntos)**\n",
    "\n",
    "Proponga un vector $\\vec{u}$ y programe en numpy las operaciones algebraicas siguientes (tome $V$ del paso anterior).\n",
    "\n",
    "$V\\,\\left(V^{T}V\\right)^{-1}V^{T}\\vec{u}$\n",
    "\n",
    "y,\n",
    "\n",
    "$V\\,V^{T}\\vec{u}$\n"
   ]
  },
  {
   "cell_type": "code",
   "execution_count": 2,
   "metadata": {
    "id": "OVKs-d0wyNEy"
   },
   "outputs": [
    {
     "name": "stdout",
     "output_type": "stream",
     "text": [
      "[  60.  120. 3000.]\n"
     ]
    }
   ],
   "source": [
    "u = [60 , 120 , 3000]\n",
    "\n",
    "#First: making the parenthesis first: VtV-1\n",
    "parenthesis = np.linalg.inv(np.matmul(np.transpose(V) , V))\n",
    "#Second: V*()*Vt*u\n",
    "proj = np.matmul( np.matmul(np.matmul(V , parenthesis) , np.transpose(V)) , u)\n",
    "print(proj)"
   ]
  },
  {
   "cell_type": "markdown",
   "metadata": {
    "id": "ZLSKX63UyNEy"
   },
   "source": [
    "**1.3 (10 puntos)**\n",
    "\n",
    "Programe en python para calcular el error de proyección obtenido para los casos del punto **1.2**."
   ]
  },
  {
   "cell_type": "code",
   "execution_count": 3,
   "metadata": {
    "id": "BWV0eg3cyNEz"
   },
   "outputs": [
    {
     "name": "stdout",
     "output_type": "stream",
     "text": [
      "5200.571682676341\n"
     ]
    }
   ],
   "source": [
    "def calculateProjectionError(v, y):\n",
    "  \"\"\"\n",
    "  Calcualte projection error by using the euclidian distance\n",
    "  \"\"\"\n",
    "  return np.linalg.norm(v - y, 2)\n",
    "\n",
    "error = calculateProjectionError( V , proj)\n",
    "print(error)"
   ]
  },
  {
   "cell_type": "markdown",
   "metadata": {
    "id": "PFCrNFAayNEz"
   },
   "source": [
    "---\n",
    "\n",
    "**Pregunta 2 (10 puntos)**\n",
    "\n",
    "\n",
    "Programe en python la función calculeDet2, que recibe como parámetro una matriz cuadrada de dimensiones 2x2, llamada M, y retorna el determinante de esa matriz. Usted debe programar las operaciones matemáticas necesarias, no utilizar una función tipo det para calcularla. Pruébela con dos matrices que Usted proponga.\n",
    "\n",
    "def calculeDet2( M ):\n",
    "\n",
    "\n",
    "\n"
   ]
  },
  {
   "cell_type": "code",
   "execution_count": 62,
   "metadata": {
    "id": "hqcB4dpEyNEz"
   },
   "outputs": [
    {
     "name": "stdout",
     "output_type": "stream",
     "text": [
      "Número de filas:  2\n",
      "Número de columnas:  2\n",
      "Ingrese cada  fila de la matriz (elemento por elemento):\n",
      "Matriz ingresada M=  [[3, 4], [5, 6]]\n",
      "El determinante de la matrix de 2x2 es: -2\n",
      "Determinante de matrices propuestas:\n",
      "Primera matriz propuesta A= [[22, 3], [8, 66]]\n",
      "Determinate de A =  1428\n",
      "Segunda matriz propuesta B= [[-3, 7], [7, 9]]\n",
      "Determinate de B =  -76\n"
     ]
    }
   ],
   "source": [
    "Fila = int(2)\n",
    "print (\"Número de filas: \", Fila)\n",
    "Columna = int(2)\n",
    "print (\"Número de columnas: \", Columna)\n",
    "# Inicializar matriz\n",
    "M = []\n",
    "print(\"Ingrese cada  fila de la matriz (elemento por elemento):\")\n",
    "\n",
    "#Creación de la matriz\n",
    "for row in range(Fila):    \n",
    "    a = []\n",
    "    for column in range(Columna):   \n",
    "        a.append(int(input()))\n",
    "    M.append(a)\n",
    "#Imprimir matriz\n",
    "print(\"Matriz ingresada M= \", M)\n",
    "\n",
    "#Definir función de calcular matrix de 2x2\n",
    "def calculeDet2 (M):\n",
    "  return M[0][0] * M[1][1] - \\\n",
    "         M[0][1] * M[1][0]\n",
    "#Imprimir resultado\n",
    "print(\"El determinante de la matrix de 2x2 es:\", calculeDet2(M))\n",
    "\n",
    "print(\"Determinante de matrices propuestas:\")\n",
    "A=[[22, 3],[8, 66]]\n",
    "print(\"Primera matriz propuesta A=\", A)\n",
    "print(\"Determinate de A = \", calculeDet2(A))\n",
    "B=[[-3, 7],[7, 9]]\n",
    "print(\"Segunda matriz propuesta B=\", B)\n",
    "print(\"Determinate de B = \", calculeDet2(B))"
   ]
  },
  {
   "cell_type": "markdown",
   "metadata": {
    "id": "I9bB-ITvyNEz"
   },
   "source": [
    "---\n",
    "\n",
    "**Pregunta 3 (10 puntos)**\n",
    "\n",
    "\n",
    "Programe en python la función calculeDet3, que recibe como parámetro una matriz cuadrada de dimensiones 3x3, llamada M, y retorna el determinante de esa matriz. Usted debe programar las operaciones matemáticas necesarias, no utilizar una función de numpy tipo det para calcularla (sí puede usar función que programó en la **Pregunta 2**). Pruébela con dos matrices que Usted proponga.\n",
    "\n",
    "def calculeDet3( M ):\n",
    "\n",
    "\n",
    "\n",
    "\n"
   ]
  },
  {
   "cell_type": "code",
   "execution_count": 70,
   "metadata": {
    "id": "KvqtCjgUyNE0"
   },
   "outputs": [
    {
     "name": "stdout",
     "output_type": "stream",
     "text": [
      "Número de filas:  3\n",
      "Número de columnas:  3\n",
      "Ingrese cada  fila de la matriz (elemento por elemento):\n",
      "Matriz ingresada M=  [[1, 2, 3], [4, 5, 6], [7, 8, 9]]\n",
      "El determinante de la matrix de 3x3 es: 240\n",
      "Determinante de matrices propuestas:\n",
      "Primera matriz propuesta A= [[1, 2, 3], [4, 5, 6], [7, 8, 9]]\n",
      "Determinate de A =  240\n",
      "Segunda matriz propuesta B= [[66, -5, 4], [8, 54, -3], [9, 8, 9]]\n",
      "Determinate de B =  28579\n"
     ]
    }
   ],
   "source": [
    "Fila = int(3)\n",
    "print (\"Número de filas: \", Fila)\n",
    "Columna = int(3)\n",
    "print (\"Número de columnas: \", Columna)\n",
    "# Inicializar matriz\n",
    "M = []\n",
    "print(\"Ingrese cada  fila de la matriz (elemento por elemento):\")\n",
    "\n",
    "#Creación de la matriz\n",
    "for row in range(Fila):    \n",
    "    a = []\n",
    "    for column in range(Columna):   \n",
    "        a.append(int(input()))\n",
    "    M.append(a)\n",
    "#Imprimir matriz\n",
    "print(\"Matriz ingresada M= \", M)\n",
    "\n",
    "#Definir función de calcular matrix de 2x2\n",
    "def calculeDet3 (M):\n",
    "  return M[0][0] * M[1][1] * M[2][2] + M[0][1] * M[1][2] *M[2][0] + M[0][2] * M [1][0] * M[2][1] - \\\n",
    "         M[0][2] * M[1] [1] * M[2][0] + M[0][1] * M[1][0] * M[2][2] +  M[0][0] * M[1][2] * M[2][1]\n",
    " \n",
    "#Imprimir resultado\n",
    "print(\"El determinante de la matrix de 3x3 es:\", calculeDet3(M))\n",
    "\n",
    "\n",
    "print(\"Determinante de matrices propuestas:\")\n",
    "A=[[1, 2, 3], [4, 5, 6], [7, 8, 9]]\n",
    "print(\"Primera matriz propuesta A=\", A)\n",
    "print(\"Determinate de A = \", calculeDet3(A))\n",
    "B=[[66, -5, 4], [8, 54, -3], [9, 8, 9]]\n",
    "print(\"Segunda matriz propuesta B=\", B)\n",
    "print(\"Determinate de B = \", calculeDet3(B))"
   ]
  },
  {
   "cell_type": "markdown",
   "metadata": {
    "id": "dW9DwdLCyNE0"
   },
   "source": [
    "---\n",
    "\n",
    "**Pregunta 4 (15 puntos)**\n",
    "\n",
    "Se tiene que:\n",
    "\n",
    "$$\\textrm{det}\\left(A\\,B\\right)=\\textrm{det}\\left(A\\right)\\,\\textrm{det}\\left(B\\right)$$\n",
    "\n",
    "Proponga dos matrices de 4x4 ( $A$ e $B$) y programando en numpy muestre esta igualdad (puede usar de numpy las funciones det y la de multiplicar matrices).\n",
    "\n",
    "\n",
    "\n",
    "\n"
   ]
  },
  {
   "cell_type": "code",
   "execution_count": 50,
   "metadata": {
    "id": "4cYKMmvIyNE0"
   },
   "outputs": [
    {
     "name": "stdout",
     "output_type": "stream",
     "text": [
      "A= [[1, 2, 0, 4], [5, 6, 7, 8], [9, 0, 11, 12], [13, 14, 0, 16]]\n",
      "B= [[0, 10, 11, 12], [13, 14, 15, 16], [5, 1, 7, 8], [1, 2, 0, 4]]\n",
      "Determinante de A = -2520\n",
      "Determinante de B = -3312\n",
      "DetA*DetB = 8346240\n",
      "---------------------------------------\n",
      "A*B= [[ 30  46  41  60]\n",
      " [121 157 194 244]\n",
      " [ 67 125 176 244]\n",
      " [198 358 353 444]]\n",
      "detAB = 8346240\n",
      "---------------------------------------\n",
      "DetA*DetB = 8346240\n",
      "detAB = 8346240\n",
      "=> det(AB)=det(A)*det(B)\n"
     ]
    }
   ],
   "source": [
    "A=[[1,2,0,4],[5,6,7,8],[9, 0, 11, 12],[13, 14, 0, 16]]\n",
    "\n",
    "B=[[0, 10, 11, 12],[13, 14, 15, 16],[5,1,7,8],[1,2,0,4]]\n",
    "\n",
    "print(\"A=\" ,A)\n",
    "print(\"B=\" ,B)\n",
    "def determinante(M):\n",
    "    det = np.linalg.det(M)\n",
    "    return round(det)\n",
    "\n",
    "DetA= determinante(A)\n",
    "DetB= determinante(B)\n",
    "\n",
    "print(\"Determinante de A =\", DetA )\n",
    "print(\"Determinante de B =\", DetB)\n",
    "DetADetB=DetA*DetB\n",
    "print(\"DetA*DetB =\", DetADetB)\n",
    "print(\"---------------------------------------\")\n",
    "\n",
    "AB=np.matmul(A,B)\n",
    "print(\"A*B=\", AB )\n",
    "detAB=determinante(AB)\n",
    "\n",
    "print(\"detAB =\", detAB)\n",
    "print(\"---------------------------------------\")\n",
    "\n",
    "\n",
    "print(\"DetA*DetB =\", DetADetB)\n",
    "print(\"detAB =\", detAB)\n",
    "print(\"=> det(AB)=det(A)*det(B)\")\n"
   ]
  },
  {
   "cell_type": "markdown",
   "metadata": {
    "id": "jZshgIiSyNE0"
   },
   "source": [
    "---\n",
    "\n",
    "**Pregunta 5 (15 puntos)**\n",
    "\n",
    "\n",
    "Utilizando el archivo \"Dataset_usar.csv\", haga:\n",
    "- Cargue el archivo.\n",
    "- Muestre cuántas filas por cuántas columnas tiene el conjunto de datos.\n",
    "- Utilizando el modelo $Ax=b$\n",
    "    - Conforme la matriz $A$ con todas las columnas menos la última de la derecha.\n",
    "    - Conforme el vector $b$ con la última columna de la derecha.\n",
    "    - Calcule el vector de pesos ($x$), utilizando el concepto de mínimos cuadrados $\\left(A^{T}A\\right)^{-1}A^{T}\\vec{b}$\n",
    "    - Calcule un b_estimado con $A$ e $x$\n",
    "    - Calcule la norma 2 de la diferencia entre b y b_estimado.\n",
    "    - Grafique b y b_estimado.\n",
    "\n"
   ]
  },
  {
   "cell_type": "code",
   "execution_count": null,
   "metadata": {
    "id": "Eeiw4xWByNE1"
   },
   "outputs": [
    {
     "name": "stdout",
     "output_type": "stream",
     "text": [
      "------------------------------------------------------\n",
      "5.2: Matriz A menos la última columna\n",
      "Filas 998\n",
      "Columnas 9\n",
      "------------------------------------------------------\n",
      "------------------------------------------------------\n",
      "5.3.2\n",
      "Columna9 -> b\n",
      "------------------------------------------------------\n",
      "------------------------------------------------------\n",
      "5.3.3\n",
      "------------------------------------------------------\n",
      "Proyección\n",
      "------------------------------------------------------\n",
      "------------------------------------------------------\n",
      "5.3.4\n",
      "b_estimado =  [[ 0.09695731  0.01808905  0.01512178 ...  0.          0.09695731\n",
      "   0.00096957]\n",
      " [-0.20660412 -0.16805858 -0.1573224  ... -0.20660412 -0.\n",
      "  -0.08987279]\n",
      " [-0.46134655 -0.18935866 -0.17353402 ... -0.46134655 -0.\n",
      "  -0.03137157]\n",
      " ...\n",
      " [-0.32178124 -0.13927845 -0.14170183 ... -0.32178124 -0.\n",
      "  -0.0257425 ]\n",
      " [-0.32149847 -0.18474166 -0.19171927 ... -0.         -0.32149847\n",
      "  -0.04661728]\n",
      " [-0.15769993 -0.13887009 -0.14033847 ... -0.         -0.15769993\n",
      "  -0.06544547]]\n",
      "------------------------------------------------------\n",
      "5.5\n"
     ]
    }
   ],
   "source": [
    "import pandas as pd\n",
    "import numpy as np\n",
    "import matplotlib.pyplot as plt\n",
    "\n",
    "archivo = \"Dataset_usar_(1).csv\"\n",
    "dataFrame = pd.read_csv(archivo, header = 0 , delimiter = ';')\n",
    "#dataFrame = pd.read_csv(archivo, delimiter = ';')\n",
    "\n",
    "\n",
    "\n",
    "dimensiones = dataFrame.shape\n",
    "filas, columnas = dimensiones\n",
    "\n",
    "print(\"------------------------------------------------------\")\n",
    "print(\"5.2: Matriz A menos la última columna\") \n",
    "print(\"Filas\", filas)\n",
    "print(\"Columnas\", columnas)\n",
    "print(\"------------------------------------------------------\")\n",
    "\n",
    "#conformación de A\n",
    "A = pd.DataFrame(dataFrame).to_numpy()\n",
    "\n",
    "\n",
    "\n",
    "print(\"------------------------------------------------------\")\n",
    "print(\"5.3.2\") \n",
    "b_dataFrame=dataFrame.loc[:, \"Shellweight\"]\n",
    "b=pd.DataFrame(b_dataFrame).to_numpy()\n",
    "print(\"Columna9 -> b\")\n",
    "print(\"Vector b\", b_dataFrame)\n",
    "print(\"------------------------------------------------------\")\n",
    "\n",
    "\n",
    "print(\"------------------------------------------------------\")\n",
    "print(\"5.3.3\") \n",
    "#First: making the parenthesis first: AtA-1\n",
    "parenthesisA = np.linalg.inv(np.matmul(np.transpose(A) , A))\n",
    "#Second: A*()*At*b\n",
    "x = np.matmul( np.matmul(np.matmul(A , parenthesisA) , np.transpose(A)) , b)\n",
    "print(\"------------------------------------------------------\")\n",
    "print(\"Proyección\")\n",
    "print(x)\n",
    "print(\"------------------------------------------------------\")\n",
    "\n",
    "print(\"------------------------------------------------------\")\n",
    "print(\"5.3.4\") \n",
    "b_estimado=A*x\n",
    "print(\"b_estimado = \", b_estimado)\n",
    "\n",
    "\n",
    "print(\"------------------------------------------------------\")\n",
    "print(\"5.3.5\")\n",
    "\n",
    "\n",
    "\n",
    "\n"
   ]
  },
  {
   "cell_type": "code",
   "execution_count": null,
   "metadata": {},
   "outputs": [],
   "source": []
  }
 ],
 "metadata": {
  "colab": {
   "provenance": []
  },
  "kernelspec": {
   "display_name": "base",
   "language": "python",
   "name": "python3"
  },
  "language_info": {
   "codemirror_mode": {
    "name": "ipython",
    "version": 3
   },
   "file_extension": ".py",
   "mimetype": "text/x-python",
   "name": "python",
   "nbconvert_exporter": "python",
   "pygments_lexer": "ipython3",
   "version": "3.12.4"
  }
 },
 "nbformat": 4,
 "nbformat_minor": 0
}
